{
 "cells": [
  {
   "cell_type": "code",
   "execution_count": 4,
   "id": "14a50d5b",
   "metadata": {
    "scrolled": true
   },
   "outputs": [
    {
     "name": "stdout",
     "output_type": "stream",
     "text": [
      "2.7.0\n"
     ]
    }
   ],
   "source": [
    "import warnings\n",
    "warnings.filterwarnings('ignore')\n",
    "import numpy as np\n",
    "import cv2\n",
    "from keras.models import load_model\n",
    "print(tf.__version__)\n"
   ]
  },
  {
   "cell_type": "code",
   "execution_count": 5,
   "id": "6fd1e5c0",
   "metadata": {},
   "outputs": [],
   "source": [
    "# hàm nomarlize data\n",
    "def preprocessing(img):\n",
    "    img=img.astype(\"uint8\")\n",
    "    img=cv2.cvtColor(img, cv2.COLOR_BGR2GRAY) # convert sang màu xám để tăng hiệu năng thay vì để 3 màu\n",
    "    img=cv2.equalizeHist(img) # cân bằng biểu đồ xám, cải thiện độ tương phản hình ảnh, mở rộng phạm vi cường độ\n",
    "    img = img/255\n",
    "    return img\n",
    "# lấy tên của nhãn dán\n",
    "def get_className(classNo):\n",
    "\tif classNo==0:\n",
    "\t\treturn \"Mask\"\n",
    "\telif classNo==1:\n",
    "\t\treturn \"No Mask\"\n"
   ]
  },
  {
   "cell_type": "code",
   "execution_count": 2,
   "id": "59f841ee",
   "metadata": {},
   "outputs": [
    {
     "ename": "NameError",
     "evalue": "name 'cv2' is not defined",
     "output_type": "error",
     "traceback": [
      "\u001b[1;31m---------------------------------------------------------------------------\u001b[0m",
      "\u001b[1;31mNameError\u001b[0m                                 Traceback (most recent call last)",
      "\u001b[1;32m<ipython-input-2-f035bf3c840c>\u001b[0m in \u001b[0;36m<module>\u001b[1;34m\u001b[0m\n\u001b[1;32m----> 1\u001b[1;33m \u001b[0mfacedetect\u001b[0m \u001b[1;33m=\u001b[0m \u001b[0mcv2\u001b[0m\u001b[1;33m.\u001b[0m\u001b[0mCascadeClassifier\u001b[0m\u001b[1;33m(\u001b[0m\u001b[1;34m'haarcascade_frontalface_default.xml'\u001b[0m\u001b[1;33m)\u001b[0m\u001b[1;33m\u001b[0m\u001b[1;33m\u001b[0m\u001b[0m\n\u001b[0m\u001b[0;32m      2\u001b[0m \u001b[0mthreshold\u001b[0m\u001b[1;33m=\u001b[0m\u001b[1;36m0.90\u001b[0m\u001b[1;33m\u001b[0m\u001b[1;33m\u001b[0m\u001b[0m\n\u001b[0;32m      3\u001b[0m \u001b[0mcap\u001b[0m\u001b[1;33m=\u001b[0m\u001b[0mcv2\u001b[0m\u001b[1;33m.\u001b[0m\u001b[0mVideoCapture\u001b[0m\u001b[1;33m(\u001b[0m\u001b[1;36m0\u001b[0m\u001b[1;33m)\u001b[0m\u001b[1;33m\u001b[0m\u001b[1;33m\u001b[0m\u001b[0m\n\u001b[0;32m      4\u001b[0m \u001b[0mcap\u001b[0m\u001b[1;33m.\u001b[0m\u001b[0mset\u001b[0m\u001b[1;33m(\u001b[0m\u001b[1;36m3\u001b[0m\u001b[1;33m,\u001b[0m \u001b[1;36m640\u001b[0m\u001b[1;33m)\u001b[0m\u001b[1;33m\u001b[0m\u001b[1;33m\u001b[0m\u001b[0m\n\u001b[0;32m      5\u001b[0m \u001b[0mcap\u001b[0m\u001b[1;33m.\u001b[0m\u001b[0mset\u001b[0m\u001b[1;33m(\u001b[0m\u001b[1;36m4\u001b[0m\u001b[1;33m,\u001b[0m \u001b[1;36m480\u001b[0m\u001b[1;33m)\u001b[0m\u001b[1;33m\u001b[0m\u001b[1;33m\u001b[0m\u001b[0m\n",
      "\u001b[1;31mNameError\u001b[0m: name 'cv2' is not defined"
     ]
    }
   ],
   "source": [
    "# sử dụng file haarcascade_frontalface_default.xml đã tích hợp sẵn thuật toán)\n",
    "# File này sẽ tích hợp sẵn các feature để nhận diện khuôn mặt\n",
    "# Haar Cascade classifier ~ effective approach detection object\n",
    "facedetect = cv2.CascadeClassifier('haarcascade_frontalface_default.xml')\n",
    "\n",
    "threshold=0.90\n",
    "\n",
    "# khởi tạo camera đầu tiên của máy tính, có index = 0\n",
    "cap=cv2.VideoCapture(0)\n",
    "\n",
    "# set parameter cho camera\n",
    "cap.set(3, 640)\n",
    "cap.set(4, 480)\n",
    "\n",
    "font=cv2.FONT_HERSHEY_COMPLEX\n",
    "\n",
    "#load model\n",
    "model = load_model('MyTrainingModel.h5')"
   ]
  },
  {
   "cell_type": "code",
   "execution_count": 1,
   "id": "d3fcf8f0",
   "metadata": {},
   "outputs": [
    {
     "ename": "NameError",
     "evalue": "name 'cap' is not defined",
     "output_type": "error",
     "traceback": [
      "\u001b[1;31m---------------------------------------------------------------------------\u001b[0m",
      "\u001b[1;31mNameError\u001b[0m                                 Traceback (most recent call last)",
      "\u001b[1;32m<ipython-input-1-3c3cfcc62c9e>\u001b[0m in \u001b[0;36m<module>\u001b[1;34m\u001b[0m\n\u001b[0;32m      1\u001b[0m \u001b[1;32mwhile\u001b[0m \u001b[1;32mTrue\u001b[0m\u001b[1;33m:\u001b[0m\u001b[1;33m\u001b[0m\u001b[1;33m\u001b[0m\u001b[0m\n\u001b[1;32m----> 2\u001b[1;33m     \u001b[0msucess\u001b[0m\u001b[1;33m,\u001b[0m \u001b[0mimgOrignal\u001b[0m\u001b[1;33m=\u001b[0m\u001b[0mcap\u001b[0m\u001b[1;33m.\u001b[0m\u001b[0mread\u001b[0m\u001b[1;33m(\u001b[0m\u001b[1;33m)\u001b[0m\u001b[1;33m\u001b[0m\u001b[1;33m\u001b[0m\u001b[0m\n\u001b[0m\u001b[0;32m      3\u001b[0m     \u001b[0mfaces\u001b[0m \u001b[1;33m=\u001b[0m \u001b[0mfacedetect\u001b[0m\u001b[1;33m.\u001b[0m\u001b[0mdetectMultiScale\u001b[0m\u001b[1;33m(\u001b[0m\u001b[0mimgOrignal\u001b[0m\u001b[1;33m,\u001b[0m\u001b[1;36m1.3\u001b[0m\u001b[1;33m,\u001b[0m\u001b[1;36m5\u001b[0m\u001b[1;33m)\u001b[0m\u001b[1;33m\u001b[0m\u001b[1;33m\u001b[0m\u001b[0m\n\u001b[0;32m      4\u001b[0m     \u001b[1;32mfor\u001b[0m \u001b[0mx\u001b[0m\u001b[1;33m,\u001b[0m\u001b[0my\u001b[0m\u001b[1;33m,\u001b[0m\u001b[0mw\u001b[0m\u001b[1;33m,\u001b[0m\u001b[0mh\u001b[0m \u001b[1;32min\u001b[0m \u001b[0mfaces\u001b[0m\u001b[1;33m:\u001b[0m\u001b[1;33m\u001b[0m\u001b[1;33m\u001b[0m\u001b[0m\n\u001b[0;32m      5\u001b[0m         \u001b[0mcrop_img\u001b[0m\u001b[1;33m=\u001b[0m\u001b[0mimgOrignal\u001b[0m\u001b[1;33m[\u001b[0m\u001b[0my\u001b[0m\u001b[1;33m:\u001b[0m\u001b[0my\u001b[0m\u001b[1;33m+\u001b[0m\u001b[0mh\u001b[0m\u001b[1;33m,\u001b[0m\u001b[0mx\u001b[0m\u001b[1;33m:\u001b[0m\u001b[0mx\u001b[0m\u001b[1;33m+\u001b[0m\u001b[0mh\u001b[0m\u001b[1;33m]\u001b[0m\u001b[1;33m\u001b[0m\u001b[1;33m\u001b[0m\u001b[0m\n",
      "\u001b[1;31mNameError\u001b[0m: name 'cap' is not defined"
     ]
    }
   ],
   "source": [
    "while True:\n",
    "    sucess, imgOrignal=cap.read()\n",
    "    # sucess có kiểu là boolean, dòng này có nghĩa nếu imgOrignal được đọc thành công nếu sucess = true(tức mở camera thành công)\n",
    "    # khá là giống success&imgOrignal= cap.read()\n",
    "    \n",
    "    # trả về hình chữ nhật ranh giới cho khuôn mặt được phát hiện\n",
    "    # có ý nghĩa sẽ dùng mọi feature của file haarcascade_frontalface_default.xml để phát hiện\n",
    "    faces = facedetect.detectMultiScale(imgOrignal,1.3,5) #image/size image được giảm/\n",
    "    # ở đây ta giảm tỉ lệ size của ảnh đi 1,3 lần để trong trường hợp khuôn mặt to sẽ giảm đi để có thể detect được khuôn mặt\n",
    "    # điều này có thể khiến việc detect nhanh hơn, thuật toán chạy nhanh hơn tuy nhiên\n",
    "    # Khi giảm tỉ lệ đi đồng nghĩa có thể bỏ sót 1 vài chi tiết của khuôn mặt do vậy không thể giảm quá nhiều\n",
    "    # 5 là tham số chỉ đỉnh số lượng hàng xóm mà hình chữ nhật khuông mặt có(kiểu hình chữ nhật nhỏ xung quanh ấy :)) cũng không chắc nữa). Nó sẽ quyết định\n",
    "    # đến chất lượng khi phát hiện ảnh. Giá trị càng cao thì ít bị phát hiện hơn nhưng chất lượng cao hơn. 5 là con số vừa đủ\n",
    "    \n",
    "    for x,y,w,h in faces: # x-cor, y-cor, width, height, dựa vào 4 tham số này để vẽ hình chữ nhật xung quanh khuôn mặt \n",
    "        crop_img=imgOrignal[y:y+h,x:x+w] # lấy ảnh chứa mặt, từ hàng y-> y+h, từ cột x->x+w\n",
    "        \n",
    "        # chuyển sang kênh màu xám vì kênh màu xám dễ xử lý hơn, và ít chuyên sâu về tính toán vì nó chỉ chứa 1 kênh đen trắng\n",
    "        # resize 32x32\n",
    "        img=cv2.resize(crop_img, (32,32)) \n",
    "        \n",
    "        # normalize img\n",
    "        img=preprocessing(img)\n",
    "        \n",
    "        # reshape lại\n",
    "        img=img.reshape(1, 32, 32, 1) # 1 ảnh/32/32/kênh gray\n",
    "\n",
    "        # tính prediction từ model\n",
    "        prediction=model.predict(img)\n",
    "        \n",
    "        # lấy classIndex của prediction, prediction có dạng là một numpy array, np.argmax trả về index của giá trị lớn nhất\n",
    "        # của mảng bắt đầu theo cột chỉ định là 1\n",
    "        classIndex= np.argmax(prediction,axis=1)\n",
    "        \n",
    "        probabilityValue=np.amax(prediction) #trả về giá trị lớn nhất\n",
    "        print(probabilityValue, \" \" , classIndex,\" \", prediction)\n",
    "        if probabilityValue<threshold:\n",
    "#             print(classIndex)\n",
    "            if classIndex==1:\n",
    "#                # vẽ giao diện\n",
    "                cv2.rectangle(imgOrignal,(x,y),(x+w,y+h),(0,255,0),2) # điểm bắt đầu, điểm kết thúc (2 điểm của 2 góc hình chữ nhật), màu, độ dày của cạnh\n",
    "                cv2.rectangle(imgOrignal, (x,y-40),(x+w, y), (0,255,0),-2)\n",
    "                cv2.putText(imgOrignal, str(get_className(classIndex)),(x,y-10), font, 0.75, (255,255,255),1, cv2.LINE_AA)\n",
    "            elif classIndex==0:\n",
    "#              \n",
    "                cv2.rectangle(imgOrignal,(x,y),(x+w,y+h),(50,50,255),2)\n",
    "                cv2.rectangle(imgOrignal, (x,y-40),(x+w, y), (50,50,255),-2)\n",
    "                cv2.putText(imgOrignal, str(get_className(classIndex)),(x,y-10), font, 0.75, (255,255,255),1, cv2.LINE_AA)\n",
    "    cv2.imshow(\"Result\",imgOrignal)\n",
    "    \n",
    "    k=cv2.waitKey(1) #đợi nhập key\n",
    "    if k==ord('q'):# nhập q để break loop\n",
    "        break\n",
    "\n",
    "\n",
    "cap.release()\n",
    "cv2.destroyAllWindows()"
   ]
  },
  {
   "cell_type": "code",
   "execution_count": null,
   "id": "fd94ecc4",
   "metadata": {},
   "outputs": [],
   "source": []
  }
 ],
 "metadata": {
  "kernelspec": {
   "display_name": "Python 3",
   "language": "python",
   "name": "python3"
  },
  "language_info": {
   "codemirror_mode": {
    "name": "ipython",
    "version": 3
   },
   "file_extension": ".py",
   "mimetype": "text/x-python",
   "name": "python",
   "nbconvert_exporter": "python",
   "pygments_lexer": "ipython3",
   "version": "3.8.8"
  },
  "varInspector": {
   "cols": {
    "lenName": 16,
    "lenType": 16,
    "lenVar": 40
   },
   "kernels_config": {
    "python": {
     "delete_cmd_postfix": "",
     "delete_cmd_prefix": "del ",
     "library": "var_list.py",
     "varRefreshCmd": "print(var_dic_list())"
    },
    "r": {
     "delete_cmd_postfix": ") ",
     "delete_cmd_prefix": "rm(",
     "library": "var_list.r",
     "varRefreshCmd": "cat(var_dic_list()) "
    }
   },
   "types_to_exclude": [
    "module",
    "function",
    "builtin_function_or_method",
    "instance",
    "_Feature"
   ],
   "window_display": false
  }
 },
 "nbformat": 4,
 "nbformat_minor": 5
}
