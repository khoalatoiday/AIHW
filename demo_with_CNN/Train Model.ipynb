{
 "cells": [
  {
   "cell_type": "markdown",
   "id": "57f711c6",
   "metadata": {},
   "source": [
    "# TRAIN MODEL CNN"
   ]
  },
  {
   "cell_type": "code",
   "execution_count": 2,
   "id": "16fb07e4",
   "metadata": {},
   "outputs": [
    {
     "name": "stdout",
     "output_type": "stream",
     "text": [
      "2.7.0\n"
     ]
    }
   ],
   "source": [
    "import cv2\n",
    "import numpy as np\n",
    "import os\n",
    "import matplotlib.pyplot as plt\n",
    "from sklearn.model_selection import train_test_split\n",
    "from keras.preprocessing.image import ImageDataGenerator\n",
    "from keras.utils.np_utils import to_categorical\n",
    "from keras.models import Sequential\n",
    "from keras.layers import Conv2D, Dense, MaxPooling2D, Activation, Dropout, Flatten\n",
    "from tensorflow.keras.applications.mobilenet_v2 import preprocess_input\n",
    "from tensorflow.keras.preprocessing.image import img_to_array\n",
    "from tensorflow.keras.preprocessing.image import load_img\n",
    "import tensorflow as tf\n",
    "print(tf.__version__)"
   ]
  },
  {
   "cell_type": "code",
   "execution_count": 3,
   "id": "fd44c438",
   "metadata": {},
   "outputs": [],
   "source": [
    "images=[]\n",
    "classNo=[]\n",
    "path=\"dataset\""
   ]
  },
  {
   "cell_type": "code",
   "execution_count": 4,
   "id": "686d9ca4",
   "metadata": {},
   "outputs": [
    {
     "name": "stdout",
     "output_type": "stream",
     "text": [
      "OpenCV(4.5.4) D:\\a\\opencv-python\\opencv-python\\opencv\\modules\\imgproc\\src\\resize.cpp:4051: error: (-215:Assertion failed) !ssize.empty() in function 'cv::resize'\n",
      "\n",
      "OpenCV(4.5.4) D:\\a\\opencv-python\\opencv-python\\opencv\\modules\\imgproc\\src\\resize.cpp:4051: error: (-215:Assertion failed) !ssize.empty() in function 'cv::resize'\n",
      "\n",
      "OpenCV(4.5.4) D:\\a\\opencv-python\\opencv-python\\opencv\\modules\\imgproc\\src\\resize.cpp:4051: error: (-215:Assertion failed) !ssize.empty() in function 'cv::resize'\n",
      "\n",
      "OpenCV(4.5.4) D:\\a\\opencv-python\\opencv-python\\opencv\\modules\\imgproc\\src\\resize.cpp:4051: error: (-215:Assertion failed) !ssize.empty() in function 'cv::resize'\n",
      "\n",
      "OpenCV(4.5.4) D:\\a\\opencv-python\\opencv-python\\opencv\\modules\\imgproc\\src\\resize.cpp:4051: error: (-215:Assertion failed) !ssize.empty() in function 'cv::resize'\n",
      "\n",
      "OpenCV(4.5.4) D:\\a\\opencv-python\\opencv-python\\opencv\\modules\\imgproc\\src\\resize.cpp:4051: error: (-215:Assertion failed) !ssize.empty() in function 'cv::resize'\n",
      "\n",
      "OpenCV(4.5.4) D:\\a\\opencv-python\\opencv-python\\opencv\\modules\\imgproc\\src\\resize.cpp:4051: error: (-215:Assertion failed) !ssize.empty() in function 'cv::resize'\n",
      "\n",
      "OpenCV(4.5.4) D:\\a\\opencv-python\\opencv-python\\opencv\\modules\\imgproc\\src\\resize.cpp:4051: error: (-215:Assertion failed) !ssize.empty() in function 'cv::resize'\n",
      "\n",
      "OpenCV(4.5.4) D:\\a\\opencv-python\\opencv-python\\opencv\\modules\\imgproc\\src\\resize.cpp:4051: error: (-215:Assertion failed) !ssize.empty() in function 'cv::resize'\n",
      "\n",
      "OpenCV(4.5.4) D:\\a\\opencv-python\\opencv-python\\opencv\\modules\\imgproc\\src\\resize.cpp:4051: error: (-215:Assertion failed) !ssize.empty() in function 'cv::resize'\n",
      "\n",
      "OpenCV(4.5.4) D:\\a\\opencv-python\\opencv-python\\opencv\\modules\\imgproc\\src\\resize.cpp:4051: error: (-215:Assertion failed) !ssize.empty() in function 'cv::resize'\n",
      "\n",
      "OpenCV(4.5.4) D:\\a\\opencv-python\\opencv-python\\opencv\\modules\\imgproc\\src\\resize.cpp:4051: error: (-215:Assertion failed) !ssize.empty() in function 'cv::resize'\n",
      "\n",
      "OpenCV(4.5.4) D:\\a\\opencv-python\\opencv-python\\opencv\\modules\\imgproc\\src\\resize.cpp:4051: error: (-215:Assertion failed) !ssize.empty() in function 'cv::resize'\n",
      "\n",
      "OpenCV(4.5.4) D:\\a\\opencv-python\\opencv-python\\opencv\\modules\\imgproc\\src\\resize.cpp:4051: error: (-215:Assertion failed) !ssize.empty() in function 'cv::resize'\n",
      "\n",
      "OpenCV(4.5.4) D:\\a\\opencv-python\\opencv-python\\opencv\\modules\\imgproc\\src\\resize.cpp:4051: error: (-215:Assertion failed) !ssize.empty() in function 'cv::resize'\n",
      "\n",
      "OpenCV(4.5.4) D:\\a\\opencv-python\\opencv-python\\opencv\\modules\\imgproc\\src\\resize.cpp:4051: error: (-215:Assertion failed) !ssize.empty() in function 'cv::resize'\n",
      "\n",
      "OpenCV(4.5.4) D:\\a\\opencv-python\\opencv-python\\opencv\\modules\\imgproc\\src\\resize.cpp:4051: error: (-215:Assertion failed) !ssize.empty() in function 'cv::resize'\n",
      "\n",
      "OpenCV(4.5.4) D:\\a\\opencv-python\\opencv-python\\opencv\\modules\\imgproc\\src\\resize.cpp:4051: error: (-215:Assertion failed) !ssize.empty() in function 'cv::resize'\n",
      "\n",
      "OpenCV(4.5.4) D:\\a\\opencv-python\\opencv-python\\opencv\\modules\\imgproc\\src\\resize.cpp:4051: error: (-215:Assertion failed) !ssize.empty() in function 'cv::resize'\n",
      "\n",
      "OpenCV(4.5.4) D:\\a\\opencv-python\\opencv-python\\opencv\\modules\\imgproc\\src\\resize.cpp:4051: error: (-215:Assertion failed) !ssize.empty() in function 'cv::resize'\n",
      "\n",
      "OpenCV(4.5.4) D:\\a\\opencv-python\\opencv-python\\opencv\\modules\\imgproc\\src\\resize.cpp:4051: error: (-215:Assertion failed) !ssize.empty() in function 'cv::resize'\n",
      "\n",
      "OpenCV(4.5.4) D:\\a\\opencv-python\\opencv-python\\opencv\\modules\\imgproc\\src\\resize.cpp:4051: error: (-215:Assertion failed) !ssize.empty() in function 'cv::resize'\n",
      "\n",
      "OpenCV(4.5.4) D:\\a\\opencv-python\\opencv-python\\opencv\\modules\\imgproc\\src\\resize.cpp:4051: error: (-215:Assertion failed) !ssize.empty() in function 'cv::resize'\n",
      "\n",
      "0\n",
      "1\n"
     ]
    }
   ],
   "source": [
    "# Load data\n",
    "for x in range(0, 2):\n",
    "    myPicList=os.listdir(path+\"/\"+str(x))\n",
    "    for y in myPicList:\n",
    "        try:\n",
    "            curImg=cv2.imread(path+\"/\"+str(x)+\"/\"+y)\n",
    "            curImg=cv2.resize(curImg,(32,32))\n",
    "            images.append(curImg)\n",
    "            classNo.append(x)\n",
    "        except Exception as e:\n",
    "            print(str(e))\n",
    "    print(x)\n",
    "\n",
    "images=np.array(images)\n",
    "classNo=np.array(classNo)\n"
   ]
  },
  {
   "cell_type": "code",
   "execution_count": 5,
   "id": "775627cb",
   "metadata": {},
   "outputs": [
    {
     "name": "stdout",
     "output_type": "stream",
     "text": [
      "(5760, 32, 32, 3)\n",
      "(5760,)\n"
     ]
    }
   ],
   "source": [
    "print(images.shape)\n",
    "print(classNo.shape)"
   ]
  },
  {
   "cell_type": "code",
   "execution_count": 6,
   "id": "0cc162bf",
   "metadata": {},
   "outputs": [
    {
     "name": "stdout",
     "output_type": "stream",
     "text": [
      "(4608, 32, 32, 3)   (4608,)   (1152,) (1152, 32, 32, 3)\n"
     ]
    }
   ],
   "source": [
    "# chia nhỏ dữ liệu\n",
    "x_train, x_test, y_train, y_test=train_test_split(images, classNo, test_size=0.2)\n",
    "print(x_train.shape, \" \", y_train.shape, \" \", y_test.shape, x_test.shape)"
   ]
  },
  {
   "cell_type": "code",
   "execution_count": 7,
   "id": "63821c7d",
   "metadata": {},
   "outputs": [
    {
     "name": "stdout",
     "output_type": "stream",
     "text": [
      "(3686, 32, 32, 3)   <class 'numpy.ndarray'>\n"
     ]
    }
   ],
   "source": [
    "x_train, x_validation, y_train, y_validation=train_test_split(x_train, y_train, test_size=0.2)\n",
    "print(x_train.shape,\" \", type(x_train))"
   ]
  },
  {
   "cell_type": "code",
   "execution_count": 8,
   "id": "a2ed57b6",
   "metadata": {},
   "outputs": [],
   "source": [
    "# cái này sử dụng để normalize ảnh cho việc train\n",
    "def preprocessing(img):\n",
    "    img=cv2.cvtColor(img, cv2.COLOR_BGR2GRAY)\n",
    "   # img=cv2.equalizeHist(img)\n",
    "    img=img/255 \n",
    "    return img"
   ]
  },
  {
   "cell_type": "code",
   "execution_count": 9,
   "id": "fe7522cf",
   "metadata": {},
   "outputs": [],
   "source": [
    "# normalize data\n",
    "x_train= np.array(list(map(preprocessing, x_train)))\n",
    "x_test= np.array(list(map(preprocessing, x_test)))\n",
    "x_validation= np.array(list(map(preprocessing, x_validation)))"
   ]
  },
  {
   "cell_type": "code",
   "execution_count": 10,
   "id": "6e2f500d",
   "metadata": {},
   "outputs": [],
   "source": [
    "# print(x_train.shape[0], \" \", x_train.shape[1], \" \", x_train.shape[2])"
   ]
  },
  {
   "cell_type": "code",
   "execution_count": 11,
   "id": "7c2432f4",
   "metadata": {},
   "outputs": [],
   "source": [
    "#reshape data\n",
    "x_train=x_train.reshape(x_train.shape[0], x_train.shape[1], x_train.shape[2],1)\n",
    "x_test=x_test.reshape(x_test.shape[0], x_test.shape[1], x_test.shape[2],1)\n",
    "x_validation=x_validation.reshape(x_validation.shape[0], x_validation.shape[1], x_validation.shape[2],1)"
   ]
  },
  {
   "cell_type": "code",
   "execution_count": 12,
   "id": "854da670",
   "metadata": {},
   "outputs": [],
   "source": [
    "# tạo constructor ImageDataGenerator \n",
    "dataGen=ImageDataGenerator(\n",
    "    width_shift_range=0.1,\n",
    "    height_shift_range=0.1,\n",
    "    zoom_range=0.2,\n",
    "    shear_range=0.1,\n",
    "    rotation_range=10)\n",
    "\n",
    "dataGen.fit(x_train)\n",
    "\n",
    "# convert interger vector into binary array\n",
    "y_train=to_categorical(y_train, 2)\n",
    "y_test=to_categorical(y_test, 2)\n",
    "y_validation=to_categorical(y_validation, 2)\n",
    "\n"
   ]
  },
  {
   "cell_type": "code",
   "execution_count": 13,
   "id": "0fce6ea3",
   "metadata": {},
   "outputs": [],
   "source": [
    "# train model CNN.\n",
    "# add convolution layer\n",
    "# add MaxPolling Layer\n",
    "# add Dropout Layer\n",
    "def myModel():\n",
    "\n",
    "\n",
    "    model=Sequential()\n",
    "    model.add((Conv2D(32, (3,3), input_shape=(32,32,1),activation='relu')))\n",
    "    model.add((Conv2D(32, (3,3),activation='relu')))\n",
    "    model.add(MaxPooling2D(pool_size=(2,2)))\n",
    "\n",
    "    model.add((Conv2D(64, (3,3),activation='relu')))\n",
    "    model.add((Conv2D(64, (3,3),activation='relu')))\n",
    "    model.add(MaxPooling2D(pool_size=(2,2)))\n",
    "    model.add(Dropout(0.5))\n",
    "\n",
    "\n",
    "    model.add(Flatten())\n",
    "    model.add(Dense(64, activation='relu'))\n",
    "    model.add(Dropout(0.5))\n",
    "    model.add(Dense(2, activation='softmax'))\n",
    "    model.compile(optimizer=\"adam\",loss='categorical_crossentropy',metrics=['accuracy'])\n",
    "    return model\n"
   ]
  },
  {
   "cell_type": "code",
   "execution_count": 14,
   "id": "7537d15c",
   "metadata": {},
   "outputs": [
    {
     "name": "stdout",
     "output_type": "stream",
     "text": [
      "Epoch 1/10\n",
      "74/74 [==============================] - 7s 89ms/step - loss: 0.6927 - accuracy: 0.5043 - val_loss: 0.6972 - val_accuracy: 0.4501\n",
      "Epoch 2/10\n",
      "74/74 [==============================] - 8s 102ms/step - loss: 0.6241 - accuracy: 0.6479 - val_loss: 0.5001 - val_accuracy: 0.7809\n",
      "Epoch 3/10\n",
      "74/74 [==============================] - 7s 97ms/step - loss: 0.5142 - accuracy: 0.7591 - val_loss: 0.4201 - val_accuracy: 0.8145\n",
      "Epoch 4/10\n",
      "74/74 [==============================] - 7s 101ms/step - loss: 0.4482 - accuracy: 0.7935 - val_loss: 0.3633 - val_accuracy: 0.8395\n",
      "Epoch 5/10\n",
      "74/74 [==============================] - 7s 98ms/step - loss: 0.3985 - accuracy: 0.8256 - val_loss: 0.2668 - val_accuracy: 0.8807\n",
      "Epoch 6/10\n",
      "74/74 [==============================] - 7s 99ms/step - loss: 0.3181 - accuracy: 0.8684 - val_loss: 0.2400 - val_accuracy: 0.8991\n",
      "Epoch 7/10\n",
      "74/74 [==============================] - 7s 99ms/step - loss: 0.2795 - accuracy: 0.8918 - val_loss: 0.2052 - val_accuracy: 0.9197\n",
      "Epoch 8/10\n",
      "74/74 [==============================] - 7s 100ms/step - loss: 0.2697 - accuracy: 0.8904 - val_loss: 0.2144 - val_accuracy: 0.9121\n",
      "Epoch 9/10\n",
      "74/74 [==============================] - 7s 99ms/step - loss: 0.2558 - accuracy: 0.9037 - val_loss: 0.1873 - val_accuracy: 0.9273\n",
      "Epoch 10/10\n",
      "74/74 [==============================] - 7s 100ms/step - loss: 0.2286 - accuracy: 0.9140 - val_loss: 0.1512 - val_accuracy: 0.9349\n"
     ]
    }
   ],
   "source": [
    "\n",
    "model=myModel()\n",
    "\n",
    "# train\n",
    "history=model.fit_generator(dataGen.flow(x_train, y_train,batch_size=50),\n",
    "                        \n",
    "    epochs=10,\n",
    "    validation_data=(x_validation,y_validation),\n",
    "    shuffle=1)\n",
    "\n",
    "\n",
    "model.save(\"MyTrainingModel.h5\")"
   ]
  },
  {
   "cell_type": "markdown",
   "id": "6fcac7bd",
   "metadata": {},
   "source": [
    "# VISUALIZE DATA"
   ]
  },
  {
   "cell_type": "code",
   "execution_count": 16,
   "id": "fd03d1bb",
   "metadata": {},
   "outputs": [
    {
     "name": "stdout",
     "output_type": "stream",
     "text": [
      "range(0, 10)\n"
     ]
    }
   ],
   "source": [
    "acc = history.history['accuracy']\n",
    "val_acc = history.history['val_accuracy']\n",
    "loss = history.history['loss']\n",
    "val_loss = history.history['val_loss']\n",
    "epochs_range = range(10)\n",
    "print(epochs_range)"
   ]
  },
  {
   "cell_type": "code",
   "execution_count": 17,
   "id": "0ae8eb1f",
   "metadata": {},
   "outputs": [
    {
     "data": {
      "image/png": "[encoded data removed]",
      "text/plain": [
       "<Figure size 1080x1080 with 2 Axes>"
      ]
     },
     "metadata": {
      "needs_background": "light"
     },
     "output_type": "display_data"
    }
   ],
   "source": [
    "\n",
    "\n",
    "plt.figure(figsize=(15, 15))\n",
    "plt.subplot(2, 2, 1)\n",
    "plt.plot(epochs_range, acc, label='Training Accuracy')\n",
    "plt.plot(epochs_range, val_acc, label='Validation Accuracy')\n",
    "plt.legend(loc='lower right')\n",
    "plt.title('Training and Validation Accuracy')\n",
    "\n",
    "plt.subplot(2, 2, 2)\n",
    "plt.plot(epochs_range, loss, label='Training Loss')\n",
    "plt.plot(epochs_range, val_loss, label='Validation Loss')\n",
    "plt.legend(loc='upper right')\n",
    "plt.title('Training and Validation Loss')\n",
    "plt.show()"
   ]
  },
  {
   "cell_type": "code",
   "execution_count": null,
   "id": "2714fa07",
   "metadata": {},
   "outputs": [],
   "source": []
  }
 ],
 "metadata": {
  "kernelspec": {
   "display_name": "Python 3",
   "language": "python",
   "name": "python3"
  },
  "varInspector": {
   "cols": {
    "lenName": 16,
    "lenType": 16,
    "lenVar": 40
   },
   "kernels_config": {
    "python": {
     "delete_cmd_postfix": "",
     "delete_cmd_prefix": "del ",
     "library": "var_list.py",
     "varRefreshCmd": "print(var_dic_list())"
    },
    "r": {
     "delete_cmd_postfix": ") ",
     "delete_cmd_prefix": "rm(",
     "library": "var_list.r",
     "varRefreshCmd": "cat(var_dic_list()) "
    }
   },
   "types_to_exclude": [
    "module",
    "function",
    "builtin_function_or_method",
    "instance",
    "_Feature"
   ],
   "window_display": false
  }
 },
 "nbformat": 4,
 "nbformat_minor": 5
}
