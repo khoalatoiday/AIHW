{
 "cells": [
  {
   "cell_type": "markdown",
   "id": "57f711c6",
   "metadata": {},
   "source": [
    "# TRAIN MODEL CNN"
   ]
  },
  {
   "cell_type": "code",
   "execution_count": 2,
   "id": "16fb07e4",
   "metadata": {},
   "outputs": [
    {
     "name": "stdout",
     "output_type": "stream",
     "text": [
      "2.7.0\n"
     ]
    }
   ],
   "source": [
    "import warnings\n",
    "warnings.filterwarnings('ignore')\n",
    "import cv2\n",
    "import numpy as np\n",
    "import os\n",
    "import matplotlib.pyplot as plt\n",
    "from sklearn.model_selection import train_test_split\n",
    "from keras.preprocessing.image import ImageDataGenerator\n",
    "from keras.utils.np_utils import to_categorical\n",
    "from keras.models import Sequential\n",
    "from keras.layers import Conv2D, Dense, MaxPooling2D, Activation, Dropout, Flatten\n",
    "from tensorflow.keras.applications.mobilenet_v2 import preprocess_input\n",
    "from tensorflow.keras.preprocessing.image import img_to_array\n",
    "from tensorflow.keras.preprocessing.image import load_img\n",
    "import tensorflow as tf\n",
    "print(tf.__version__)"
   ]
  },
  {
   "cell_type": "code",
   "execution_count": 12,
   "id": "fd44c438",
   "metadata": {},
   "outputs": [],
   "source": [
    "images=[]\n",
    "classNo=[]\n",
    "path=\"dataset\""
   ]
  },
  {
   "cell_type": "code",
   "execution_count": 13,
   "id": "686d9ca4",
   "metadata": {},
   "outputs": [
    {
     "name": "stdout",
     "output_type": "stream",
     "text": [
      "0\n",
      "1\n"
     ]
    }
   ],
   "source": [
    "# Load data\n",
    "for x in range(0, 2):\n",
    "    myPicList=os.listdir(path+\"/\"+str(x))\n",
    "    for y in myPicList:\n",
    "        curImg=cv2.imread(path+\"/\"+str(x)+\"/\"+y)\n",
    "        curImg=cv2.resize(curImg,(32,32))\n",
    "        images.append(curImg)\n",
    "        classNo.append(x)\n",
    "    print(x)\n",
    "\n",
    "images=np.array(images)\n",
    "classNo=np.array(classNo)\n"
   ]
  },
  {
   "cell_type": "code",
   "execution_count": 21,
   "id": "0cc162bf",
   "metadata": {},
   "outputs": [
    {
     "name": "stdout",
     "output_type": "stream",
     "text": [
      "(1560, 32, 32, 3)   (1560,)   (390,) (390, 32, 32, 3)\n"
     ]
    }
   ],
   "source": [
    "# chia nhỏ dữ liệu\n",
    "x_train, x_test, y_train, y_test=train_test_split(images, classNo, test_size=0.2)\n",
    "print(x_train.shape, \" \", y_train.shape, \" \", y_test.shape, x_test.shape)"
   ]
  },
  {
   "cell_type": "code",
   "execution_count": 22,
   "id": "63821c7d",
   "metadata": {},
   "outputs": [
    {
     "name": "stdout",
     "output_type": "stream",
     "text": [
      "(1248, 32, 32, 3)   <class 'numpy.ndarray'>\n"
     ]
    }
   ],
   "source": [
    "x_train, x_validation, y_train, y_validation=train_test_split(x_train, y_train, test_size=0.2)\n",
    "print(x_train.shape,\" \", type(x_train))"
   ]
  },
  {
   "cell_type": "code",
   "execution_count": 23,
   "id": "a2ed57b6",
   "metadata": {},
   "outputs": [],
   "source": [
    "# cái này sử dụng để normalize ảnh cho việc train\n",
    "def preprocessing(img):\n",
    "    img=cv2.cvtColor(img, cv2.COLOR_BGR2GRAY)\n",
    "   # img=cv2.equalizeHist(img)\n",
    "    img=img/255 \n",
    "    return img"
   ]
  },
  {
   "cell_type": "code",
   "execution_count": 24,
   "id": "fe7522cf",
   "metadata": {},
   "outputs": [],
   "source": [
    "# normalize data\n",
    "x_train= np.array(list(map(preprocessing, x_train)))\n",
    "x_test= np.array(list(map(preprocessing, x_test)))\n",
    "x_validation= np.array(list(map(preprocessing, x_validation)))"
   ]
  },
  {
   "cell_type": "code",
   "execution_count": 25,
   "id": "6e2f500d",
   "metadata": {},
   "outputs": [
    {
     "name": "stdout",
     "output_type": "stream",
     "text": [
      "1248   32   32\n"
     ]
    }
   ],
   "source": [
    "print(x_train.shape[0], \" \", x_train.shape[1], \" \", x_train.shape[2])"
   ]
  },
  {
   "cell_type": "code",
   "execution_count": 10,
   "id": "7c2432f4",
   "metadata": {},
   "outputs": [],
   "source": [
    "#reshape data\n",
    "x_train=x_train.reshape(x_train.shape[0], x_train.shape[1], x_train.shape[2],1)\n",
    "x_test=x_test.reshape(x_test.shape[0], x_test.shape[1], x_test.shape[2],1)\n",
    "x_validation=x_validation.reshape(x_validation.shape[0], x_validation.shape[1], x_validation.shape[2],1)"
   ]
  },
  {
   "cell_type": "code",
   "execution_count": 11,
   "id": "854da670",
   "metadata": {},
   "outputs": [],
   "source": [
    "# tạo constructor ImageDataGenerator \n",
    "dataGen=ImageDataGenerator(\n",
    "    width_shift_range=0.1,\n",
    "    height_shift_range=0.1,\n",
    "    zoom_range=0.2,\n",
    "    shear_range=0.1,\n",
    "    rotation_range=10)\n",
    "\n",
    "dataGen.fit(x_train)\n",
    "\n",
    "# convert interger vector into binary array\n",
    "y_train=to_categorical(y_train, 2)\n",
    "y_test=to_categorical(y_test, 2)\n",
    "y_validation=to_categorical(y_validation, 2)"
   ]
  },
  {
   "cell_type": "code",
   "execution_count": 12,
   "id": "0fce6ea3",
   "metadata": {},
   "outputs": [],
   "source": [
    "# train model CNN.\n",
    "# add convolution layer\n",
    "# add MaxPolling Layer\n",
    "# add Dropout Layer\n",
    "def myModel():\n",
    "\tsizeOfFilter1=(3,3)\n",
    "\tsizeOfFilter2=(3,3)\n",
    "\tsizeOfPool=(2,2)\n",
    "\n",
    "\tmodel=Sequential()\n",
    "\tmodel.add((Conv2D(32, (3,3), input_shape=(32,32,1),activation='relu')))\n",
    "\tmodel.add((Conv2D(32, (3,3),activation='relu')))\n",
    "\tmodel.add(MaxPooling2D(pool_size=(2,2)))\n",
    "\n",
    "\tmodel.add((Conv2D(64, (3,3),activation='relu')))\n",
    "\tmodel.add((Conv2D(64, (3,3),activation='relu')))\n",
    "\tmodel.add(MaxPooling2D(pool_size=(2,2)))\n",
    "\tmodel.add(Dropout(0.5))\n",
    "\n",
    "\n",
    "\tmodel.add(Flatten())\n",
    "\tmodel.add(Dense(64, activation='relu'))\n",
    "\tmodel.add(Dropout(0.5))\n",
    "\tmodel.add(Dense(2, activation='softmax'))\n",
    "\tmodel.compile(optimizer=\"adam\",loss='categorical_crossentropy',metrics=['accuracy'])\n",
    "\treturn model\n"
   ]
  },
  {
   "cell_type": "code",
   "execution_count": 16,
   "id": "7537d15c",
   "metadata": {},
   "outputs": [
    {
     "name": "stdout",
     "output_type": "stream",
     "text": [
      "Epoch 1/2\n",
      "25/25 [==============================] - 3s 110ms/step - loss: 0.6874 - accuracy: 0.5521 - val_loss: 0.6627 - val_accuracy: 0.5224\n",
      "Epoch 2/2\n",
      "25/25 [==============================] - 2s 99ms/step - loss: 0.6635 - accuracy: 0.5938 - val_loss: 0.5424 - val_accuracy: 0.8558\n"
     ]
    }
   ],
   "source": [
    "\n",
    "model=myModel()\n",
    "\n",
    "# train\n",
    "history=model.fit_generator(dataGen.flow(x_train, y_train,batch_size=50),\n",
    "                        \n",
    "\tepochs=2,\n",
    "\tvalidation_data=(x_validation,y_validation),\n",
    "\tshuffle=1)\n",
    "\n",
    "\n",
    "model.save(\"MyTrainingModel.h5\")"
   ]
  },
  {
   "cell_type": "code",
   "execution_count": null,
   "id": "6377e3ab",
   "metadata": {},
   "outputs": [],
   "source": []
  }
 ],
 "metadata": {
  "kernelspec": {
   "display_name": "Python 3",
   "language": "python",
   "name": "python3"
  },
  "language_info": {
   "codemirror_mode": {
    "name": "ipython",
    "version": 3
   },
   "file_extension": ".py",
   "mimetype": "text/x-python",
   "name": "python",
   "nbconvert_exporter": "python",
   "pygments_lexer": "ipython3",
   "version": "3.8.8"
  },
  "varInspector": {
   "cols": {
    "lenName": 16,
    "lenType": 16,
    "lenVar": 40
   },
   "kernels_config": {
    "python": {
     "delete_cmd_postfix": "",
     "delete_cmd_prefix": "del ",
     "library": "var_list.py",
     "varRefreshCmd": "print(var_dic_list())"
    },
    "r": {
     "delete_cmd_postfix": ") ",
     "delete_cmd_prefix": "rm(",
     "library": "var_list.r",
     "varRefreshCmd": "cat(var_dic_list()) "
    }
   },
   "types_to_exclude": [
    "module",
    "function",
    "builtin_function_or_method",
    "instance",
    "_Feature"
   ],
   "window_display": false
  }
 },
 "nbformat": 4,
 "nbformat_minor": 5
}
