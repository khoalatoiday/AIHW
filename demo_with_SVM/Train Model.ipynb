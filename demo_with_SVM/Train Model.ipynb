{
 "cells": [
  {
   "cell_type": "code",
   "execution_count": 2,
   "id": "16fb07e4",
   "metadata": {},
   "outputs": [],
   "source": [
    "import cv2\n",
    "import numpy as np\n",
    "from sklearn.svm import SVC\n",
    "from sklearn.metrics import accuracy_score\n",
    "from sklearn.model_selection import train_test_split"
   ]
  },
  {
   "cell_type": "code",
   "execution_count": 3,
   "id": "70663506",
   "metadata": {},
   "outputs": [],
   "source": [
    "with_mask = np.load(\"with_mask.npy\")\n",
    "without_mask = np.load(\"without_mask.npy\")"
   ]
  },
  {
   "cell_type": "code",
   "execution_count": 4,
   "id": "3b5befe1",
   "metadata": {},
   "outputs": [
    {
     "name": "stdout",
     "output_type": "stream",
     "text": [
      "(200, 50, 50, 3)\n",
      "(200, 50, 50, 3)\n"
     ]
    }
   ],
   "source": [
    "print(with_mask.shape)\n",
    "print(without_mask.shape)"
   ]
  },
  {
   "cell_type": "code",
   "execution_count": 5,
   "id": "4263687a",
   "metadata": {},
   "outputs": [],
   "source": [
    "with_mask = with_mask.reshape(200, 50*50*3)\n",
    "without_mask = without_mask.reshape(200, 50*50*3)"
   ]
  },
  {
   "cell_type": "code",
   "execution_count": 6,
   "id": "3d3e0294",
   "metadata": {},
   "outputs": [
    {
     "name": "stdout",
     "output_type": "stream",
     "text": [
      "[[255   0 255 ...  43  43  43]\n",
      " [255   0 255 ... 119  57 119]\n",
      " [251   6 251 ...  28  33  39]\n",
      " ...\n",
      " [255   0 255 ... 220  32 221]\n",
      " [255   0 255 ... 223  29 225]\n",
      " [255   0 255 ... 225  28 227]]   400\n"
     ]
    }
   ],
   "source": [
    "X = np.r_[with_mask, without_mask] #\n",
    "labels = np.zeros(X.shape[0])\n",
    "print(X,\" \", len(X))"
   ]
  },
  {
   "cell_type": "code",
   "execution_count": 7,
   "id": "ecca1bff",
   "metadata": {},
   "outputs": [],
   "source": [
    "labels[200:] = 1.0 # bắt đầu từ ảnh thứ 201 có nhãn dán = 1 (ảnh without_mask)"
   ]
  },
  {
   "cell_type": "code",
   "execution_count": 8,
   "id": "cf6ae0c8",
   "metadata": {},
   "outputs": [],
   "source": [
    "# khai báo nhãn dãn\n",
    "names = {0: \"mask\", 1: \"no mask\"}"
   ]
  },
  {
   "cell_type": "code",
   "execution_count": 9,
   "id": "5c571fc4",
   "metadata": {},
   "outputs": [],
   "source": [
    "# chia dữ liệu\n",
    "x_train,x_test,y_train,y_test = train_test_split(X,labels,test_size=0.25)\n",
    "x_train, x_validation, y_train, y_validation=train_test_split(x_train, y_train, test_size=0.25)"
   ]
  },
  {
   "cell_type": "code",
   "execution_count": 10,
   "id": "6ea4bcb0",
   "metadata": {},
   "outputs": [
    {
     "data": {
      "text/plain": [
       "SVC()"
      ]
     },
     "execution_count": 10,
     "metadata": {},
     "output_type": "execute_result"
    }
   ],
   "source": [
    "# build model SVM\n",
    "svm = SVC()\n",
    "svm.fit(x_train,y_train)"
   ]
  },
  {
   "cell_type": "code",
   "execution_count": 11,
   "id": "bd82173e",
   "metadata": {},
   "outputs": [],
   "source": [
    "y_pred = svm.predict(x_test)"
   ]
  },
  {
   "cell_type": "code",
   "execution_count": null,
   "id": "866d34f3",
   "metadata": {},
   "outputs": [],
   "source": [
    "# đoạn này tương tự cái test.inpy nhé\n",
    "haar_data = cv2.CascadeClassifier(\"haarcascade_frontalface_default.xml\")\n",
    "font=cv2.FONT_HERSHEY_COMPLEX\n",
    "capture = cv2.VideoCapture(0)\n",
    "data = [] #save data\n",
    "while True:\n",
    "    flag, img = capture.read()\n",
    "    if flag:\n",
    "        faces = haar_data.detectMultiScale(img) \n",
    "        for x,y,w,h in faces:\n",
    "            face = img[y:y+h,x:x+w,:]\n",
    "            face = cv2.resize(face,(50,50))\n",
    "            face = face.reshape(1,-1) #đưa về 1 mảng 1 chiều\n",
    "            pred  = svm.predict(face)[0]\n",
    "            print(pred, \" \", pred[0])\n",
    "            n = names[int(pred)\n",
    "            if(n == \"no mask\"):\n",
    "                cv2.rectangle(img,(x,y),(x+w,y+h),(0,255,0),2)\n",
    "                cv2.rectangle(img, (x,y-40),(x+w, y), (0,255,0),-2)\n",
    "               \n",
    "                cv2.putText(img,\"no mask\", (x,y-10), cv2.FONT_HERSHEY_SIMPLEX, 0.75,(255,255,255),1, cv2.LINE_AA)\n",
    "            else:\n",
    "                cv2.rectangle(img,(x,y),(x+w,y+h),(50,50,255),2)\n",
    "                cv2.rectangle(img, (x,y-40),(x+w, y), (50,50,255),-2)\n",
    "                cv2.putText(img,\"mask\", (x,y-10), cv2.FONT_HERSHEY_SIMPLEX, 0.75,(255,255,255),1, cv2.LINE_AA)\n",
    "                \n",
    "                            \n",
    "        cv2.imshow(\"result\", img) # show image   \n",
    "        if cv2.waitKey(2) == 27 or len(data)>=200:\n",
    "            break\n",
    "            \n",
    "capture.release()\n",
    "cv2.destroyAllWindows()"
   ]
  },
  {
   "cell_type": "code",
   "execution_count": null,
   "id": "cd22b543",
   "metadata": {},
   "outputs": [],
   "source": []
  }
 ],
 "metadata": {
  "kernelspec": {
   "display_name": "Python 3",
   "language": "python",
   "name": "python3"
  },
  "varInspector": {
   "cols": {
    "lenName": 16,
    "lenType": 16,
    "lenVar": 40
   },
   "kernels_config": {
    "python": {
     "delete_cmd_postfix": "",
     "delete_cmd_prefix": "del ",
     "library": "var_list.py",
     "varRefreshCmd": "print(var_dic_list())"
    },
    "r": {
     "delete_cmd_postfix": ") ",
     "delete_cmd_prefix": "rm(",
     "library": "var_list.r",
     "varRefreshCmd": "cat(var_dic_list()) "
    }
   },
   "types_to_exclude": [
    "module",
    "function",
    "builtin_function_or_method",
    "instance",
    "_Feature"
   ],
   "window_display": false
  }
 },
 "nbformat": 4,
 "nbformat_minor": 5
}
