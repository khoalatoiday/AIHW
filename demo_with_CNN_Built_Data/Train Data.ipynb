{
 "cells": [
  {
   "cell_type": "code",
   "execution_count": 2,
   "id": "2ecbd971",
   "metadata": {},
   "outputs": [],
   "source": [
    "import cv2\n",
    "import numpy as np\n",
    "import matplotlib.pyplot as plt"
   ]
  },
  {
   "cell_type": "code",
   "execution_count": null,
   "id": "9cde4ff9",
   "metadata": {},
   "outputs": [
    {
     "name": "stdout",
     "output_type": "stream",
     "text": [
      "Creating Images........../dataset/0/1.jpg\n",
      "Creating Images........../dataset/0/2.jpg\n",
      "Creating Images........../dataset/0/3.jpg\n",
      "Creating Images........../dataset/0/4.jpg\n",
      "Creating Images........../dataset/0/5.jpg\n",
      "Creating Images........../dataset/0/6.jpg\n",
      "Creating Images........../dataset/0/7.jpg\n",
      "Creating Images........../dataset/0/8.jpg\n",
      "Creating Images........../dataset/0/9.jpg\n",
      "Creating Images........../dataset/0/10.jpg\n",
      "Creating Images........../dataset/0/11.jpg\n",
      "Creating Images........../dataset/0/12.jpg\n",
      "Creating Images........../dataset/0/13.jpg\n",
      "Creating Images........../dataset/0/14.jpg\n",
      "Creating Images........../dataset/0/15.jpg\n",
      "Creating Images........../dataset/0/16.jpg\n",
      "Creating Images........../dataset/0/17.jpg\n",
      "Creating Images........../dataset/0/18.jpg\n",
      "Creating Images........../dataset/0/19.jpg\n",
      "Creating Images........../dataset/0/20.jpg\n",
      "Creating Images........../dataset/0/21.jpg\n",
      "Creating Images........../dataset/0/22.jpg\n",
      "Creating Images........../dataset/0/23.jpg\n",
      "Creating Images........../dataset/0/24.jpg\n",
      "Creating Images........../dataset/0/25.jpg\n",
      "Creating Images........../dataset/0/26.jpg\n",
      "Creating Images........../dataset/0/27.jpg\n",
      "Creating Images........../dataset/0/28.jpg\n",
      "Creating Images........../dataset/0/29.jpg\n",
      "Creating Images........../dataset/0/30.jpg\n",
      "Creating Images........../dataset/0/31.jpg\n",
      "Creating Images........../dataset/0/32.jpg\n",
      "Creating Images........../dataset/0/33.jpg\n",
      "Creating Images........../dataset/0/34.jpg\n",
      "Creating Images........../dataset/0/35.jpg\n",
      "Creating Images........../dataset/0/36.jpg\n",
      "Creating Images........../dataset/0/37.jpg\n",
      "Creating Images........../dataset/0/38.jpg\n",
      "Creating Images........../dataset/0/39.jpg\n",
      "Creating Images........../dataset/0/40.jpg\n",
      "Creating Images........../dataset/0/41.jpg\n",
      "Creating Images........../dataset/0/42.jpg\n",
      "Creating Images........../dataset/0/43.jpg\n",
      "Creating Images........../dataset/0/44.jpg\n",
      "Creating Images........../dataset/0/45.jpg\n",
      "Creating Images........../dataset/0/46.jpg\n",
      "Creating Images........../dataset/0/47.jpg\n",
      "Creating Images........../dataset/0/48.jpg\n",
      "Creating Images........../dataset/0/49.jpg\n",
      "Creating Images........../dataset/0/50.jpg\n",
      "Creating Images........../dataset/0/51.jpg\n",
      "Creating Images........../dataset/0/52.jpg\n",
      "Creating Images........../dataset/0/53.jpg\n",
      "Creating Images........../dataset/0/54.jpg\n",
      "Creating Images........../dataset/0/55.jpg\n",
      "Creating Images........../dataset/0/56.jpg\n",
      "Creating Images........../dataset/0/57.jpg\n",
      "Creating Images........../dataset/0/58.jpg\n",
      "Creating Images........../dataset/0/59.jpg\n",
      "Creating Images........../dataset/0/60.jpg\n",
      "Creating Images........../dataset/0/61.jpg\n",
      "Creating Images........../dataset/0/62.jpg\n",
      "Creating Images........../dataset/0/63.jpg\n",
      "Creating Images........../dataset/0/64.jpg\n",
      "Creating Images........../dataset/0/65.jpg\n",
      "Creating Images........../dataset/0/66.jpg\n",
      "Creating Images........../dataset/0/67.jpg\n",
      "Creating Images........../dataset/0/68.jpg\n",
      "Creating Images........../dataset/0/69.jpg\n",
      "Creating Images........../dataset/0/70.jpg\n",
      "Creating Images........../dataset/0/71.jpg\n"
     ]
    }
   ],
   "source": [
    "\n",
    "video=cv2.VideoCapture(0)\n",
    "\n",
    "facedetect=cv2.CascadeClassifier('haarcascade_frontalface_default.xml')\n",
    "\n",
    "count=0\n",
    "\n",
    "while True:\n",
    "    ret,frame=video.read()\n",
    "    faces=facedetect.detectMultiScale(frame,1.3, 5)\n",
    "    for x,y,w,h in faces:\n",
    "        count=count+1\n",
    "        name='./dataset/0/'+ str(count) + '.jpg'\n",
    "        print(\"Creating Images.........\" +name)\n",
    "        cv2.imwrite(name, frame[y:y+h,x:x+w])\n",
    "        cv2.rectangle(frame, (x,y), (x+w, y+h), (0,255,0), 3)\n",
    "    cv2.imshow(\"WindowFrame\", frame)\n",
    "    cv2.waitKey(1)\n",
    "    if count>300:\n",
    "        break\n",
    "video.release()\n",
    "cv2.destroyAllWindows()"
   ]
  },
  {
   "cell_type": "code",
   "execution_count": null,
   "id": "99f87ad5",
   "metadata": {},
   "outputs": [],
   "source": [
    "\n",
    "video=cv2.VideoCapture(0)\n",
    "\n",
    "facedetect=cv2.CascadeClassifier('haarcascade_frontalface_default.xml')\n",
    "\n",
    "count=0\n",
    "\n",
    "while True:\n",
    "    ret,frame=video.read()\n",
    "    faces=facedetect.detectMultiScale(frame,1.3, 5)\n",
    "    for x,y,w,h in faces:\n",
    "        count=count+1\n",
    "        name='./dataset/1/'+ str(count) + '.jpg'\n",
    "        cv2.imwrite(name, frame[y:y+h,x:x+w])\n",
    "        cv2.rectangle(frame, (x,y), (x+w, y+h), (0,255,0), 3)\n",
    "    cv2.imshow(\"WindowFrame\", frame)\n",
    "    cv2.waitKey(1)\n",
    "    if count>300:\n",
    "        break\n",
    "video.release()\n",
    "cv2.destroyAllWindows()"
   ]
  }
 ],
 "metadata": {
  "kernelspec": {
   "display_name": "Python 3",
   "language": "python",
   "name": "python3"
  },
  "language_info": {
   "codemirror_mode": {
    "name": "ipython",
    "version": 3
   },
   "file_extension": ".py",
   "mimetype": "text/x-python",
   "name": "python",
   "nbconvert_exporter": "python",
   "pygments_lexer": "ipython3",
   "version": "3.8.8"
  },
  "varInspector": {
   "cols": {
    "lenName": 16,
    "lenType": 16,
    "lenVar": 40
   },
   "kernels_config": {
    "python": {
     "delete_cmd_postfix": "",
     "delete_cmd_prefix": "del ",
     "library": "var_list.py",
     "varRefreshCmd": "print(var_dic_list())"
    },
    "r": {
     "delete_cmd_postfix": ") ",
     "delete_cmd_prefix": "rm(",
     "library": "var_list.r",
     "varRefreshCmd": "cat(var_dic_list()) "
    }
   },
   "types_to_exclude": [
    "module",
    "function",
    "builtin_function_or_method",
    "instance",
    "_Feature"
   ],
   "window_display": false
  }
 },
 "nbformat": 4,
 "nbformat_minor": 5
}
