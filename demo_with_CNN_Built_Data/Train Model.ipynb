{
 "cells": [
  {
   "cell_type": "code",
   "execution_count": 16,
   "id": "16fb07e4",
   "metadata": {},
   "outputs": [
    {
     "name": "stdout",
     "output_type": "stream",
     "text": [
      "2.7.0\n"
     ]
    }
   ],
   "source": [
    "import cv2\n",
    "import numpy as np\n",
    "import os\n",
    "import matplotlib.pyplot as plt\n",
    "from sklearn.model_selection import train_test_split\n",
    "from keras.preprocessing.image import ImageDataGenerator\n",
    "from keras.utils.np_utils import to_categorical\n",
    "from keras.models import Sequential\n",
    "from keras.layers import Conv2D, Dense, MaxPooling2D, Activation, Dropout, Flatten\n",
    "from tensorflow.keras.applications.mobilenet_v2 import preprocess_input\n",
    "from tensorflow.keras.preprocessing.image import img_to_array\n",
    "from tensorflow.keras.preprocessing.image import load_img\n",
    "import tensorflow as tf\n",
    "print(tf.__version__)\n",
    "from keras.models import load_model"
   ]
  },
  {
   "cell_type": "code",
   "execution_count": 17,
   "id": "9fe40109",
   "metadata": {},
   "outputs": [],
   "source": [
    "images=[]\n",
    "classNo=[]\n",
    "path=\"dataset\""
   ]
  },
  {
   "cell_type": "code",
   "execution_count": 18,
   "id": "af46f7b3",
   "metadata": {},
   "outputs": [
    {
     "name": "stdout",
     "output_type": "stream",
     "text": [
      "0\n",
      "1\n"
     ]
    }
   ],
   "source": [
    "# Load data\n",
    "for x in range(0, 2):\n",
    "    myPicList=os.listdir(path+\"/\"+str(x))\n",
    "    for y in myPicList:\n",
    "        curImg=cv2.imread(path+\"/\"+str(x)+\"/\"+y)\n",
    "        curImg=cv2.resize(curImg,(32,32))\n",
    "        images.append(curImg)\n",
    "        classNo.append(x)\n",
    "    print(x)\n",
    "\n",
    "images=np.array(images)\n",
    "classNo=np.array(classNo)"
   ]
  },
  {
   "cell_type": "code",
   "execution_count": 19,
   "id": "0574be5a",
   "metadata": {},
   "outputs": [
    {
     "name": "stdout",
     "output_type": "stream",
     "text": [
      "(481, 32, 32, 3)   (481,)   (121,) (121, 32, 32, 3)\n"
     ]
    }
   ],
   "source": [
    "# chia nhỏ dữ liệu\n",
    "x_train, x_test, y_train, y_test=train_test_split(images, classNo, test_size=0.2)\n",
    "print(x_train.shape, \" \", y_train.shape, \" \", y_test.shape, x_test.shape)"
   ]
  },
  {
   "cell_type": "code",
   "execution_count": 20,
   "id": "148db602",
   "metadata": {},
   "outputs": [
    {
     "name": "stdout",
     "output_type": "stream",
     "text": [
      "(384, 32, 32, 3)   <class 'numpy.ndarray'>\n"
     ]
    }
   ],
   "source": [
    "x_train, x_validation, y_train, y_validation=train_test_split(x_train, y_train, test_size=0.2)\n",
    "print(x_train.shape,\" \", type(x_train))"
   ]
  },
  {
   "cell_type": "code",
   "execution_count": 21,
   "id": "d93b32c5",
   "metadata": {},
   "outputs": [],
   "source": [
    "# cái này sử dụng để normalize ảnh cho việc train\n",
    "def preprocessing(img):\n",
    "    img=cv2.cvtColor(img, cv2.COLOR_BGR2GRAY)\n",
    "   # img=cv2.equalizeHist(img)\n",
    "    img=img/255 \n",
    "    return img"
   ]
  },
  {
   "cell_type": "code",
   "execution_count": 22,
   "id": "4e04931f",
   "metadata": {},
   "outputs": [],
   "source": [
    "# normalize data\n",
    "x_train= np.array(list(map(preprocessing, x_train)))\n",
    "x_test= np.array(list(map(preprocessing, x_test)))\n",
    "x_validation= np.array(list(map(preprocessing, x_validation)))"
   ]
  },
  {
   "cell_type": "code",
   "execution_count": 23,
   "id": "d88694fc",
   "metadata": {},
   "outputs": [],
   "source": [
    "#reshape data\n",
    "x_train=x_train.reshape(x_train.shape[0], x_train.shape[1], x_train.shape[2],1)\n",
    "x_test=x_test.reshape(x_test.shape[0], x_test.shape[1], x_test.shape[2],1)\n",
    "x_validation=x_validation.reshape(x_validation.shape[0], x_validation.shape[1], x_validation.shape[2],1)"
   ]
  },
  {
   "cell_type": "code",
   "execution_count": 24,
   "id": "57bfc7bc",
   "metadata": {},
   "outputs": [],
   "source": [
    "# tạo constructor ImageDataGenerator \n",
    "dataGen=ImageDataGenerator(\n",
    "    width_shift_range=0.1,\n",
    "    height_shift_range=0.1,\n",
    "    zoom_range=0.2,\n",
    "    shear_range=0.1,\n",
    "    rotation_range=10)\n",
    "\n",
    "dataGen.fit(x_train)\n",
    "\n",
    "# convert interger vector into binary array\n",
    "y_train=to_categorical(y_train, 2)\n",
    "y_test=to_categorical(y_test, 2)\n",
    "y_validation=to_categorical(y_validation, 2)"
   ]
  },
  {
   "cell_type": "code",
   "execution_count": 25,
   "id": "1714a937",
   "metadata": {},
   "outputs": [],
   "source": [
    "def myModel():\n",
    "\n",
    "\n",
    "\tmodel=Sequential()\n",
    "\tmodel.add((Conv2D(32, (3,3), input_shape=(32,32,1),activation='relu')))\n",
    "\tmodel.add((Conv2D(32, (3,3),activation='relu')))\n",
    "\tmodel.add(MaxPooling2D(pool_size=(2,2)))\n",
    "\n",
    "\tmodel.add((Conv2D(64, (3,3),activation='relu')))\n",
    "\tmodel.add((Conv2D(64, (3,3),activation='relu')))\n",
    "\tmodel.add(MaxPooling2D(pool_size=(2,2)))\n",
    "\tmodel.add(Dropout(0.5))\n",
    "\n",
    "\n",
    "\tmodel.add(Flatten())\n",
    "\tmodel.add(Dense(64, activation='relu'))\n",
    "\tmodel.add(Dropout(0.5))\n",
    "\tmodel.add(Dense(2, activation='softmax'))\n",
    "\tmodel.compile(optimizer=\"adam\",loss='categorical_crossentropy',metrics=['accuracy'])\n",
    "\treturn model\n",
    "\n",
    "def get_className(classNo):\n",
    "    if classNo==0:\n",
    "        return \"Mask\"\n",
    "    elif classNo==1:\n",
    "        return \"No Mask\""
   ]
  },
  {
   "cell_type": "code",
   "execution_count": 28,
   "id": "e726dadd",
   "metadata": {},
   "outputs": [
    {
     "name": "stderr",
     "output_type": "stream",
     "text": [
      "<ipython-input-28-1f4f6dafd864>:4: UserWarning: `Model.fit_generator` is deprecated and will be removed in a future version. Please use `Model.fit`, which supports generators.\n",
      "  history=model.fit_generator(dataGen.flow(x_train, y_train,batch_size=50),\n"
     ]
    },
    {
     "name": "stdout",
     "output_type": "stream",
     "text": [
      "Epoch 1/10\n",
      "8/8 [==============================] - 1s 114ms/step - loss: 0.6690 - accuracy: 0.5391 - val_loss: 0.6321 - val_accuracy: 0.4948\n",
      "Epoch 2/10\n",
      "8/8 [==============================] - 1s 91ms/step - loss: 0.6157 - accuracy: 0.6146 - val_loss: 0.4905 - val_accuracy: 0.5361\n",
      "Epoch 3/10\n",
      "8/8 [==============================] - 1s 90ms/step - loss: 0.3971 - accuracy: 0.8568 - val_loss: 0.1395 - val_accuracy: 1.0000\n",
      "Epoch 4/10\n",
      "8/8 [==============================] - 1s 91ms/step - loss: 0.0823 - accuracy: 0.9948 - val_loss: 0.0010 - val_accuracy: 1.0000\n",
      "Epoch 5/10\n",
      "8/8 [==============================] - 1s 92ms/step - loss: 0.0121 - accuracy: 0.9974 - val_loss: 3.2732e-05 - val_accuracy: 1.0000\n",
      "Epoch 6/10\n",
      "8/8 [==============================] - 1s 90ms/step - loss: 0.1420 - accuracy: 0.9661 - val_loss: 0.1017 - val_accuracy: 0.9588\n",
      "Epoch 7/10\n",
      "8/8 [==============================] - 1s 97ms/step - loss: 0.6347 - accuracy: 0.8698 - val_loss: 0.0223 - val_accuracy: 1.0000\n",
      "Epoch 8/10\n",
      "8/8 [==============================] - 1s 87ms/step - loss: 0.0111 - accuracy: 0.9948 - val_loss: 0.0014 - val_accuracy: 1.0000\n",
      "Epoch 9/10\n",
      "8/8 [==============================] - 1s 99ms/step - loss: 0.0291 - accuracy: 0.9922 - val_loss: 0.0033 - val_accuracy: 1.0000\n",
      "Epoch 10/10\n",
      "8/8 [==============================] - 1s 86ms/step - loss: 0.0185 - accuracy: 0.9974 - val_loss: 2.9693e-04 - val_accuracy: 1.0000\n"
     ]
    }
   ],
   "source": [
    "\n",
    "model=myModel()\n",
    "\n",
    "# train\n",
    "history=model.fit_generator(dataGen.flow(x_train, y_train,batch_size=50),                 \n",
    "epochs=10,\n",
    "validation_data=(x_validation,y_validation),\n",
    "\tshuffle=1)\n",
    "\n",
    "\n",
    "model.save(\"MyTrainingModel2.h5\")"
   ]
  },
  {
   "cell_type": "code",
   "execution_count": 29,
   "id": "8fbf00bf",
   "metadata": {},
   "outputs": [],
   "source": [
    "facedetect = cv2.CascadeClassifier('haarcascade_frontalface_default.xml')\n",
    "\n",
    "threshold=0.90\n",
    "\n",
    "# khởi tạo camera đầu tiên của máy tính, có index = 0\n",
    "cap=cv2.VideoCapture(0)\n",
    "\n",
    "# set parameter cho camera\n",
    "cap.set(3, 640)\n",
    "cap.set(4, 480)\n",
    "\n",
    "font=cv2.FONT_HERSHEY_COMPLEX\n",
    "\n",
    "#load model\n",
    "model = load_model('MyTrainingModel2.h5')"
   ]
  },
  {
   "cell_type": "code",
   "execution_count": null,
   "id": "866d34f3",
   "metadata": {},
   "outputs": [
    {
     "name": "stdout",
     "output_type": "stream",
     "text": [
      "0.558444   [1]   [[0.44155595 0.558444  ]]\n",
      "0.54022956   [1]   [[0.45977038 0.54022956]]\n",
      "0.52497864   [1]   [[0.4750214  0.52497864]]\n",
      "0.51689565   [1]   [[0.4831043  0.51689565]]\n",
      "0.50091255   [0]   [[0.50091255 0.49908742]]\n",
      "0.50257313   [0]   [[0.50257313 0.49742684]]\n",
      "0.5087471   [1]   [[0.4912529 0.5087471]]\n",
      "0.52873117   [1]   [[0.4712688  0.52873117]]\n",
      "0.53461784   [1]   [[0.46538213 0.53461784]]\n",
      "0.5467707   [1]   [[0.4532294 0.5467707]]\n",
      "0.53747785   [1]   [[0.4625221  0.53747785]]\n",
      "0.54830396   [1]   [[0.451696   0.54830396]]\n",
      "0.5553243   [1]   [[0.44467565 0.5553243 ]]\n",
      "0.5489965   [1]   [[0.45100355 0.5489965 ]]\n",
      "0.5529492   [1]   [[0.4470508 0.5529492]]\n",
      "0.5556468   [1]   [[0.44435325 0.5556468 ]]\n",
      "0.5519811   [1]   [[0.44801897 0.5519811 ]]\n",
      "0.54893434   [1]   [[0.4510657  0.54893434]]\n",
      "0.5471513   [1]   [[0.4528487 0.5471513]]\n",
      "0.54515296   [1]   [[0.454847   0.54515296]]\n",
      "0.5516862   [1]   [[0.44831377 0.5516862 ]]\n",
      "0.55152047   [1]   [[0.44847944 0.55152047]]\n",
      "0.554286   [1]   [[0.44571394 0.554286  ]]\n",
      "0.5524056   [1]   [[0.4475944 0.5524056]]\n",
      "0.5512235   [1]   [[0.44877642 0.5512235 ]]\n",
      "0.552624   [1]   [[0.44737595 0.552624  ]]\n",
      "0.5453315   [1]   [[0.45466855 0.5453315 ]]\n",
      "0.55153483   [1]   [[0.44846508 0.55153483]]\n",
      "0.551985   [1]   [[0.44801497 0.551985  ]]\n",
      "0.5506471   [1]   [[0.44935295 0.5506471 ]]\n",
      "0.55696505   [1]   [[0.44303498 0.55696505]]\n",
      "0.5477562   [1]   [[0.45224375 0.5477562 ]]\n",
      "0.55140865   [1]   [[0.44859144 0.55140865]]\n",
      "0.5511055   [1]   [[0.4488945 0.5511055]]\n",
      "0.5542411   [1]   [[0.44575885 0.5542411 ]]\n",
      "0.55128163   [1]   [[0.44871834 0.55128163]]\n",
      "0.55296844   [1]   [[0.4470316  0.55296844]]\n",
      "0.5545635   [1]   [[0.44543654 0.5545635 ]]\n",
      "0.5484679   [1]   [[0.45153216 0.5484679 ]]\n",
      "0.55397326   [1]   [[0.4460267  0.55397326]]\n",
      "0.552125   [1]   [[0.44787505 0.552125  ]]\n",
      "0.5525141   [1]   [[0.44748592 0.5525141 ]]\n",
      "0.5515773   [1]   [[0.44842258 0.5515773 ]]\n",
      "0.55136144   [1]   [[0.4486386  0.55136144]]\n",
      "0.54822034   [1]   [[0.4517796  0.54822034]]\n",
      "0.54959697   [1]   [[0.4504031  0.54959697]]\n",
      "0.546003   [1]   [[0.45399702 0.546003  ]]\n",
      "0.5345578   [1]   [[0.46544224 0.5345578 ]]\n",
      "0.53457725   [1]   [[0.4654227  0.53457725]]\n",
      "0.54578555   [1]   [[0.45421442 0.54578555]]\n",
      "0.5550782   [1]   [[0.4449218 0.5550782]]\n",
      "0.55784327   [1]   [[0.4421567  0.55784327]]\n",
      "0.55956113   [1]   [[0.4404388  0.55956113]]\n",
      "0.56792   [1]   [[0.43208 0.56792]]\n",
      "0.5690845   [1]   [[0.43091547 0.5690845 ]]\n",
      "0.5704149   [1]   [[0.4295851 0.5704149]]\n",
      "0.5643191   [1]   [[0.43568093 0.5643191 ]]\n",
      "0.5650967   [1]   [[0.43490326 0.5650967 ]]\n",
      "0.5627414   [1]   [[0.43725863 0.5627414 ]]\n",
      "0.56617385   [1]   [[0.43382618 0.56617385]]\n",
      "0.56648475   [1]   [[0.43351522 0.56648475]]\n",
      "0.56145304   [1]   [[0.438547   0.56145304]]\n",
      "0.5537898   [1]   [[0.4462102 0.5537898]]\n",
      "0.5588301   [1]   [[0.4411699 0.5588301]]\n",
      "0.54403406   [1]   [[0.4559659  0.54403406]]\n",
      "0.5508911   [1]   [[0.44910887 0.5508911 ]]\n",
      "0.55601007   [1]   [[0.4439899  0.55601007]]\n",
      "0.54768175   [1]   [[0.45231825 0.54768175]]\n",
      "0.54940695   [1]   [[0.450593   0.54940695]]\n",
      "0.54969305   [1]   [[0.45030698 0.54969305]]\n",
      "0.5504514   [1]   [[0.4495486 0.5504514]]\n",
      "0.5589364   [1]   [[0.4410636 0.5589364]]\n",
      "0.5543811   [1]   [[0.445619  0.5543811]]\n",
      "0.548714   [1]   [[0.45128596 0.548714  ]]\n",
      "0.5528912   [1]   [[0.44710886 0.5528912 ]]\n",
      "0.5582664   [1]   [[0.4417336 0.5582664]]\n",
      "0.55592936   [1]   [[0.44407067 0.55592936]]\n",
      "0.5520951   [1]   [[0.44790486 0.5520951 ]]\n",
      "0.5514276   [1]   [[0.44857237 0.5514276 ]]\n",
      "0.53738433   [1]   [[0.46261567 0.53738433]]\n",
      "0.5745647   [0]   [[0.5745647 0.4254353]]\n",
      "0.5815166   [0]   [[0.5815166  0.41848335]]\n",
      "0.6573835   [0]   [[0.6573835  0.34261653]]\n",
      "0.6064857   [0]   [[0.6064857  0.39351428]]\n",
      "0.621105   [0]   [[0.621105 0.378895]]\n",
      "0.62518764   [0]   [[0.62518764 0.37481228]]\n",
      "0.5798452   [0]   [[0.5798452  0.42015472]]\n",
      "0.59840757   [0]   [[0.59840757 0.40159237]]\n",
      "0.58644605   [0]   [[0.58644605 0.41355395]]\n",
      "0.5964116   [0]   [[0.5964116  0.40358844]]\n",
      "0.5893955   [0]   [[0.5893955  0.41060445]]\n",
      "0.59035105   [0]   [[0.59035105 0.40964895]]\n",
      "0.6144981   [0]   [[0.6144981  0.38550195]]\n",
      "0.6064318   [0]   [[0.6064318  0.39356822]]\n",
      "0.57846004   [0]   [[0.57846004 0.42153993]]\n"
     ]
    }
   ],
   "source": [
    "while True:\n",
    "    sucess, imgOrignal=cap.read()\n",
    "    # sucess có kiểu là boolean, dòng này có nghĩa nếu imgOrignal được đọc thành công nếu sucess = true(tức mở camera thành công)\n",
    "    # khá là giống success&imgOrignal= cap.read()\n",
    "    \n",
    "    # trả về hình chữ nhật ranh giới cho khuôn mặt được phát hiện\n",
    "    # có ý nghĩa sẽ dùng mọi feature của file haarcascade_frontalface_default.xml để phát hiện\n",
    "    faces = facedetect.detectMultiScale(imgOrignal,1.3,5) #image/size image được giảm/\n",
    "    # ở đây ta giảm tỉ lệ size của ảnh đi 1,3 lần để trong trường hợp khuôn mặt to sẽ giảm đi để có thể detect được khuôn mặt\n",
    "    # điều này có thể khiến việc detect nhanh hơn, thuật toán chạy nhanh hơn tuy nhiên\n",
    "    # Khi giảm tỉ lệ đi đồng nghĩa có thể bỏ sót 1 vài chi tiết của khuôn mặt do vậy không thể giảm quá nhiều\n",
    "    # 5 là tham số chỉ đỉnh số lượng hàng xóm mà hình chữ nhật khuông mặt có(kiểu hình chữ nhật nhỏ xung quanh ấy :)) cũng không chắc nữa). Nó sẽ quyết định\n",
    "    # đến chất lượng khi phát hiện ảnh. Giá trị càng cao thì ít bị phát hiện hơn nhưng chất lượng cao hơn. 5 là con số vừa đủ\n",
    "    \n",
    "    for x,y,w,h in faces: # x-cor, y-cor, width, height, dựa vào 4 tham số này để vẽ hình chữ nhật xung quanh khuôn mặt \n",
    "        crop_img=imgOrignal[y:y+h,x:x+w] # lấy ảnh chứa mặt, từ hàng y-> y+h, từ cột x->x+w\n",
    "        \n",
    "        # chuyển sang kênh màu xám vì kênh màu xám dễ xử lý hơn, và ít chuyên sâu về tính toán vì nó chỉ chứa 1 kênh đen trắng\n",
    "        # resize 32x32\n",
    "        img=cv2.resize(crop_img, (32,32)) \n",
    "        \n",
    "        # normalize img\n",
    "        img=preprocessing(img)\n",
    "        \n",
    "        # reshape lại\n",
    "        img=img.reshape(1, 32, 32, 1) # 1 ảnh/32/32/kênh gray\n",
    "\n",
    "        # tính prediction từ model\n",
    "        prediction=model.predict(img)\n",
    "        \n",
    "        # lấy classIndex của prediction, prediction có dạng là một numpy array, np.argmax trả về index của giá trị lớn nhất\n",
    "        # của mảng bắt đầu theo cột chỉ định là 1\n",
    "        classIndex= np.argmax(prediction,axis=1)\n",
    "        \n",
    "        probabilityValue=np.amax(prediction) #trả về giá trị lớn nhất\n",
    "        print(probabilityValue, \" \" , classIndex,\" \", prediction)\n",
    "        if probabilityValue<threshold:\n",
    "#             print(classIndex)\n",
    "            if classIndex==1:\n",
    "#                # vẽ giao diện\n",
    "                cv2.rectangle(imgOrignal,(x,y),(x+w,y+h),(0,255,0),2) # điểm bắt đầu, điểm kết thúc (2 điểm của 2 góc hình chữ nhật), màu, độ dày của cạnh\n",
    "                cv2.rectangle(imgOrignal, (x,y-40),(x+w, y), (0,255,0),-2)\n",
    "                cv2.putText(imgOrignal, str(get_className(classIndex)),(x,y-10), font, 0.75, (255,255,255),1, cv2.LINE_AA)\n",
    "            elif classIndex==0:\n",
    "#              \n",
    "                cv2.rectangle(imgOrignal,(x,y),(x+w,y+h),(50,50,255),2)\n",
    "                cv2.rectangle(imgOrignal, (x,y-40),(x+w, y), (50,50,255),-2)\n",
    "                cv2.putText(imgOrignal, str(get_className(classIndex)),(x,y-10), font, 0.75, (255,255,255),1, cv2.LINE_AA)\n",
    "    cv2.imshow(\"Result\",imgOrignal)\n",
    "    \n",
    "    k=cv2.waitKey(1) #đợi nhập key\n",
    "    if k==ord('q'):# nhập q để break loop\n",
    "        break\n",
    "\n",
    "\n",
    "cap.release()\n",
    "cv2.destroyAllWindows()"
   ]
  },
  {
   "cell_type": "code",
   "execution_count": 31,
   "id": "cd22b543",
   "metadata": {},
   "outputs": [
    {
     "data": {
      "image/png": "[encoded data removed]",
      "text/plain": [
       "<Figure size 720x360 with 1 Axes>"
      ]
     },
     "metadata": {
      "needs_background": "light"
     },
     "output_type": "display_data"
    }
   ],
   "source": [
    "numOfSample=[]\n",
    "\n",
    "for x in range(0,2):\n",
    "    numOfSample.append(len(np.where(y_train==x)[0]))\n",
    "\n",
    "\n",
    "plt.figure(figsize=(10,5))\n",
    "plt.bar(range(0, 2),numOfSample)\n",
    "plt.title(\"Bar Plot of Classes & Images\")\n",
    "plt.xlabel(\"No Of Classes\")\n",
    "plt.ylabel(\"No of Images\")\n",
    "plt.show()\n"
   ]
  },
  {
   "cell_type": "code",
   "execution_count": 30,
   "id": "d01f6f1f",
   "metadata": {},
   "outputs": [
    {
     "name": "stdout",
     "output_type": "stream",
     "text": [
      "range(0, 10)\n"
     ]
    },
    {
     "data": {
      "image/png": "[encoded data removed]",
      "text/plain": [
       "<Figure size 1080x1080 with 2 Axes>"
      ]
     },
     "metadata": {
      "needs_background": "light"
     },
     "output_type": "display_data"
    }
   ],
   "source": [
    "acc = history.history['accuracy']\n",
    "val_acc = history.history['val_accuracy']\n",
    "loss = history.history['loss']\n",
    "val_loss = history.history['val_loss']\n",
    "epochs_range = range(10)\n",
    "print(epochs_range)\n",
    "\n",
    "plt.figure(figsize=(15, 15))\n",
    "plt.subplot(2, 2, 1)\n",
    "plt.plot(epochs_range, acc, label='Training Accuracy')\n",
    "plt.plot(epochs_range, val_acc, label='Validation Accuracy')\n",
    "plt.legend(loc='lower right')\n",
    "plt.title('Training and Validation Accuracy')\n",
    "\n",
    "plt.subplot(2, 2, 2)\n",
    "plt.plot(epochs_range, loss, label='Training Loss')\n",
    "plt.plot(epochs_range, val_loss, label='Validation Loss')\n",
    "plt.legend(loc='upper right')\n",
    "plt.title('Training and Validation Loss')\n",
    "plt.show()"
   ]
  },
  {
   "cell_type": "code",
   "execution_count": null,
   "id": "4fc2ac0c",
   "metadata": {},
   "outputs": [],
   "source": []
  }
 ],
 "metadata": {
  "kernelspec": {
   "display_name": "Python 3",
   "language": "python",
   "name": "python3"
  },
  "language_info": {
   "codemirror_mode": {
    "name": "ipython",
    "version": 3
   },
   "file_extension": ".py",
   "mimetype": "text/x-python",
   "name": "python",
   "nbconvert_exporter": "python",
   "pygments_lexer": "ipython3",
   "version": "3.8.8"
  },
  "varInspector": {
   "cols": {
    "lenName": 16,
    "lenType": 16,
    "lenVar": 40
   },
   "kernels_config": {
    "python": {
     "delete_cmd_postfix": "",
     "delete_cmd_prefix": "del ",
     "library": "var_list.py",
     "varRefreshCmd": "print(var_dic_list())"
    },
    "r": {
     "delete_cmd_postfix": ") ",
     "delete_cmd_prefix": "rm(",
     "library": "var_list.r",
     "varRefreshCmd": "cat(var_dic_list()) "
    }
   },
   "types_to_exclude": [
    "module",
    "function",
    "builtin_function_or_method",
    "instance",
    "_Feature"
   ],
   "window_display": false
  }
 },
 "nbformat": 4,
 "nbformat_minor": 5
}
